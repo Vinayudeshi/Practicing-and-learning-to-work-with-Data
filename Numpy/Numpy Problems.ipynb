{
 "cells": [
  {
   "cell_type": "markdown",
   "metadata": {},
   "source": [
    "### Question 1: Create a null vector of size 10 but the fifth value which is 1."
   ]
  },
  {
   "cell_type": "code",
   "execution_count": 17,
   "metadata": {},
   "outputs": [],
   "source": [
    "import numpy as np"
   ]
  },
  {
   "cell_type": "code",
   "execution_count": 3,
   "metadata": {},
   "outputs": [
    {
     "data": {
      "text/plain": [
       "array([nan, nan, nan, nan,  1., nan, nan, nan, nan, nan])"
      ]
     },
     "execution_count": 3,
     "metadata": {},
     "output_type": "execute_result"
    }
   ],
   "source": [
    "a = np.array([np.nan] * 10)\n",
    "a[4] = 1\n",
    "a\n"
   ]
  },
  {
   "cell_type": "markdown",
   "metadata": {},
   "source": [
    "### Question 2: Ask users for 2 numbers and Write a program to generate a random array of shape (a, b) and print the array and avg of the array."
   ]
  },
  {
   "cell_type": "code",
   "execution_count": 4,
   "metadata": {},
   "outputs": [
    {
     "name": "stdout",
     "output_type": "stream",
     "text": [
      "[[0.42459708 0.57421741]\n",
      " [0.34817951 0.40820549]]\n",
      "0.4387998729236458\n"
     ]
    }
   ],
   "source": [
    "a = int(input(\"Enter first number: \"))\n",
    "b = int(input(\"Enter second number: \"))\n",
    "\n",
    "# Now I will be making a new array.\n",
    "arr = np.random.random((a,b))\n",
    "print(arr)\n",
    "print(arr.mean())"
   ]
  },
  {
   "cell_type": "markdown",
   "metadata": {},
   "source": [
    "### Question 3: Write a function to create a 2d array with 1 on the border and 0 inside. Take 2-D array shape as (a,b) as parameter to function.\n"
   ]
  },
  {
   "cell_type": "code",
   "execution_count": 5,
   "metadata": {},
   "outputs": [
    {
     "data": {
      "text/plain": [
       "array([[1., 1.],\n",
       "       [1., 1.]])"
      ]
     },
     "execution_count": 5,
     "metadata": {},
     "output_type": "execute_result"
    }
   ],
   "source": [
    "m = int(input())\n",
    "n = int(input())\n",
    "\n",
    "\n",
    "def function(m,n):\n",
    "\n",
    "    arr = np.ones((m,n))\n",
    "\n",
    "    arr[1:-1,1:-1] = 0\n",
    "    return arr\n",
    "function(m,n)"
   ]
  },
  {
   "cell_type": "markdown",
   "metadata": {},
   "source": [
    "### Question 4 : Create a vector of size 10 with values ranging from 0 to 1, both excluded. "
   ]
  },
  {
   "cell_type": "code",
   "execution_count": 6,
   "metadata": {},
   "outputs": [
    {
     "data": {
      "text/plain": [
       "array([0.97540304, 0.19412737, 0.47261775, 0.83189636, 0.43695876,\n",
       "       0.73293232, 0.59900758, 0.80593263, 0.32035012, 0.49511103])"
      ]
     },
     "execution_count": 6,
     "metadata": {},
     "output_type": "execute_result"
    }
   ],
   "source": [
    "np.random.random((10))"
   ]
  },
  {
   "cell_type": "markdown",
   "metadata": {},
   "source": [
    "### Question 5 : Make an identity Matrix of size m"
   ]
  },
  {
   "cell_type": "code",
   "execution_count": 7,
   "metadata": {},
   "outputs": [
    {
     "data": {
      "text/plain": [
       "array([[1., 0.],\n",
       "       [0., 1.]])"
      ]
     },
     "execution_count": 7,
     "metadata": {},
     "output_type": "execute_result"
    }
   ],
   "source": [
    "number = int(input())\n",
    "\n",
    "np.identity(number)"
   ]
  },
  {
   "cell_type": "markdown",
   "metadata": {},
   "source": [
    "### Question 6 : Create a 5x5 matrix with row values ranging from 0 to 4.\n"
   ]
  },
  {
   "cell_type": "code",
   "execution_count": 8,
   "metadata": {},
   "outputs": [
    {
     "data": {
      "text/plain": [
       "array([[0., 1., 2., 3., 4.],\n",
       "       [0., 1., 2., 3., 4.],\n",
       "       [0., 1., 2., 3., 4.],\n",
       "       [0., 1., 2., 3., 4.],\n",
       "       [0., 1., 2., 3., 4.]])"
      ]
     },
     "execution_count": 8,
     "metadata": {},
     "output_type": "execute_result"
    }
   ],
   "source": [
    "z = np.zeros((5,5))\n",
    "z += np.arange(5)\n",
    "z\n"
   ]
  },
  {
   "cell_type": "markdown",
   "metadata": {},
   "source": [
    "### Question 7 : Consider a random integer (in range 1 to 100) vector with shape (10, 2) representing coordinates, and coordinates of a point as array is given. Create an array of distance of each point in the random vectros from the given point. Distance array should be interger type. I"
   ]
  },
  {
   "cell_type": "code",
   "execution_count": 9,
   "metadata": {},
   "outputs": [],
   "source": [
    "arr = np.random.randint(1,100,(10,2))\n",
    "point = np.array([2,3])\n",
    "dist = []"
   ]
  },
  {
   "cell_type": "code",
   "execution_count": 10,
   "metadata": {},
   "outputs": [
    {
     "name": "stdout",
     "output_type": "stream",
     "text": [
      "[[75 92]\n",
      " [10 27]\n",
      " [ 1 50]\n",
      " [ 1  4]\n",
      " [15 41]\n",
      " [48 59]\n",
      " [28 99]\n",
      " [92 11]\n",
      " [15 67]\n",
      " [24 16]]\n",
      "[[8.66025404 9.59166305]\n",
      " [3.16227766 5.19615242]\n",
      " [1.         7.07106781]\n",
      " [1.         2.        ]\n",
      " [3.87298335 6.40312424]\n",
      " [6.92820323 7.68114575]\n",
      " [5.29150262 9.94987437]\n",
      " [9.59166305 3.31662479]\n",
      " [3.87298335 8.18535277]\n",
      " [4.89897949 4.        ]]\n"
     ]
    }
   ],
   "source": [
    "\n",
    "\n",
    "\n",
    "\n",
    "print(arr)\n",
    "arr = np.sqrt(arr)\n",
    "print(arr)\n"
   ]
  },
  {
   "cell_type": "markdown",
   "metadata": {},
   "source": [
    "### Question 8: Consider a (6,7,8) shape array, what is the index (x,y,z) of the 100th element?"
   ]
  },
  {
   "cell_type": "code",
   "execution_count": 11,
   "metadata": {},
   "outputs": [
    {
     "name": "stdout",
     "output_type": "stream",
     "text": [
      "(1, 5, 4)\n"
     ]
    },
    {
     "data": {
      "text/plain": [
       "array([[[0., 0., 0., 0., 0., 0., 0., 0.],\n",
       "        [0., 0., 0., 0., 0., 0., 0., 0.],\n",
       "        [0., 0., 0., 0., 0., 0., 0., 0.],\n",
       "        [0., 0., 0., 0., 0., 0., 0., 0.],\n",
       "        [0., 0., 0., 0., 0., 0., 0., 0.],\n",
       "        [0., 0., 0., 0., 0., 0., 0., 0.],\n",
       "        [0., 0., 0., 0., 0., 0., 0., 0.]],\n",
       "\n",
       "       [[0., 0., 0., 0., 0., 0., 0., 0.],\n",
       "        [0., 0., 0., 0., 0., 0., 0., 0.],\n",
       "        [0., 0., 0., 0., 0., 0., 0., 0.],\n",
       "        [0., 0., 0., 0., 0., 0., 0., 0.],\n",
       "        [0., 0., 0., 0., 0., 0., 0., 0.],\n",
       "        [0., 0., 0., 0., 0., 0., 0., 0.],\n",
       "        [0., 0., 0., 0., 0., 0., 0., 0.]],\n",
       "\n",
       "       [[0., 0., 0., 0., 0., 0., 0., 0.],\n",
       "        [0., 0., 0., 0., 0., 0., 0., 0.],\n",
       "        [0., 0., 0., 0., 0., 0., 0., 0.],\n",
       "        [0., 0., 0., 0., 0., 0., 0., 0.],\n",
       "        [0., 0., 0., 0., 0., 0., 0., 0.],\n",
       "        [0., 0., 0., 0., 0., 0., 0., 0.],\n",
       "        [0., 0., 0., 0., 0., 0., 0., 0.]],\n",
       "\n",
       "       [[0., 0., 0., 0., 0., 0., 0., 0.],\n",
       "        [0., 0., 0., 0., 0., 0., 0., 0.],\n",
       "        [0., 0., 0., 0., 0., 0., 0., 0.],\n",
       "        [0., 0., 0., 0., 0., 0., 0., 0.],\n",
       "        [0., 0., 0., 0., 0., 0., 0., 0.],\n",
       "        [0., 0., 0., 0., 0., 0., 0., 0.],\n",
       "        [0., 0., 0., 0., 0., 0., 0., 0.]],\n",
       "\n",
       "       [[0., 0., 0., 0., 0., 0., 0., 0.],\n",
       "        [0., 0., 0., 0., 0., 0., 0., 0.],\n",
       "        [0., 0., 0., 0., 0., 0., 0., 0.],\n",
       "        [0., 0., 0., 0., 0., 0., 0., 0.],\n",
       "        [0., 0., 0., 0., 0., 0., 0., 0.],\n",
       "        [0., 0., 0., 0., 0., 0., 0., 0.],\n",
       "        [0., 0., 0., 0., 0., 0., 0., 0.]],\n",
       "\n",
       "       [[0., 0., 0., 0., 0., 0., 0., 0.],\n",
       "        [0., 0., 0., 0., 0., 0., 0., 0.],\n",
       "        [0., 0., 0., 0., 0., 0., 0., 0.],\n",
       "        [0., 0., 0., 0., 0., 0., 0., 0.],\n",
       "        [0., 0., 0., 0., 0., 0., 0., 0.],\n",
       "        [0., 0., 0., 0., 0., 0., 0., 0.],\n",
       "        [0., 0., 0., 0., 0., 0., 0., 0.]]])"
      ]
     },
     "execution_count": 11,
     "metadata": {},
     "output_type": "execute_result"
    }
   ],
   "source": [
    "print(np.unravel_index(100, (6,7,8)))\n",
    "## Now lets confirm this.\n",
    "np.zeros((6,7,8))\n"
   ]
  },
  {
   "cell_type": "markdown",
   "metadata": {},
   "source": [
    "### Question 9: Take Space seperated input of numbers and print a reversed numpy array as output. "
   ]
  },
  {
   "cell_type": "code",
   "execution_count": 12,
   "metadata": {},
   "outputs": [],
   "source": [
    "a = input().split(' ')\n",
    "\n"
   ]
  },
  {
   "cell_type": "code",
   "execution_count": 13,
   "metadata": {},
   "outputs": [],
   "source": [
    "a = np.array(a,dtype=np.int64)"
   ]
  },
  {
   "cell_type": "code",
   "execution_count": 14,
   "metadata": {},
   "outputs": [],
   "source": [
    "a = np.flip(a)"
   ]
  },
  {
   "cell_type": "markdown",
   "metadata": {},
   "source": [
    "### Question 10: Make a function to calculate the Softmax function. \n",
    "\n",
    "Only take in a 1D Numpy array, else give an error."
   ]
  },
  {
   "cell_type": "code",
   "execution_count": 15,
   "metadata": {},
   "outputs": [
    {
     "data": {
      "text/plain": [
       "1.0"
      ]
     },
     "execution_count": 15,
     "metadata": {},
     "output_type": "execute_result"
    }
   ],
   "source": [
    "arr = np.array([86.03331084, 37.7285648, 48.64908087, 87.16563062, 38.40852563, 37.20006318])\n",
    "\n",
    "\n",
    "def softmax(arr):\n",
    "    if type(arr) != np.ndarray:\n",
    "        raise TypeError(\"Only Numpy arrays allowed to be inputed.\")\n",
    "    elif arr.ndim > 1:\n",
    "        raise TypeError(\"Only 1D arrays accepted.\")\n",
    "    sum = np.sum(arr)\n",
    "    softmax = []\n",
    "    for i in arr:\n",
    "        s = (i / sum)\n",
    "        softmax.append(s)\n",
    "    \n",
    "\n",
    "    return softmax\n",
    "\n",
    "\n",
    "a = softmax(arr)\n",
    "\n",
    "np.sum(a)\n",
    "\n"
   ]
  },
  {
   "cell_type": "markdown",
   "metadata": {},
   "source": [
    "### Question 11: Write a python function that accepts infinite number of numpy arrays and do the vertical stack to them. Then return that new array as result. The function only accepts the numpy array, otherwise raise error."
   ]
  },
  {
   "cell_type": "markdown",
   "metadata": {},
   "source": [
    "#### In *args I can give as many arguments as I want to."
   ]
  },
  {
   "cell_type": "code",
   "execution_count": 16,
   "metadata": {},
   "outputs": [
    {
     "ename": "TypeError",
     "evalue": "Only Numpy arrays allows ",
     "output_type": "error",
     "traceback": [
      "\u001b[0;31m---------------------------------------------------------------------------\u001b[0m",
      "\u001b[0;31mTypeError\u001b[0m                                 Traceback (most recent call last)",
      "Cell \u001b[0;32mIn[16], line 10\u001b[0m\n\u001b[1;32m      8\u001b[0m a \u001b[38;5;241m=\u001b[39m np\u001b[38;5;241m.\u001b[39marange(\u001b[38;5;241m1\u001b[39m,\u001b[38;5;241m11\u001b[39m)\n\u001b[1;32m      9\u001b[0m b \u001b[38;5;241m=\u001b[39m np\u001b[38;5;241m.\u001b[39mrepeat(\u001b[38;5;241m1\u001b[39m,\u001b[38;5;241m10\u001b[39m)\n\u001b[0;32m---> 10\u001b[0m \u001b[43mvertical_stack\u001b[49m\u001b[43m(\u001b[49m\u001b[43m(\u001b[49m\u001b[43ma\u001b[49m\u001b[43m,\u001b[49m\u001b[43mb\u001b[49m\u001b[43m)\u001b[49m\u001b[43m)\u001b[49m\n",
      "Cell \u001b[0;32mIn[16], line 4\u001b[0m, in \u001b[0;36mvertical_stack\u001b[0;34m(*args)\u001b[0m\n\u001b[1;32m      2\u001b[0m \u001b[38;5;28;01mfor\u001b[39;00m i \u001b[38;5;129;01min\u001b[39;00m args:\n\u001b[1;32m      3\u001b[0m     \u001b[38;5;28;01mif\u001b[39;00m \u001b[38;5;28mtype\u001b[39m(i) \u001b[38;5;241m!=\u001b[39m np\u001b[38;5;241m.\u001b[39mndarray:\n\u001b[0;32m----> 4\u001b[0m         \u001b[38;5;28;01mraise\u001b[39;00m \u001b[38;5;167;01mTypeError\u001b[39;00m(\u001b[38;5;124m\"\u001b[39m\u001b[38;5;124mOnly Numpy arrays allows \u001b[39m\u001b[38;5;124m\"\u001b[39m)\n\u001b[1;32m      5\u001b[0m \u001b[38;5;28;01mreturn\u001b[39;00m np\u001b[38;5;241m.\u001b[39mvstack(\u001b[38;5;241m*\u001b[39margs)\n",
      "\u001b[0;31mTypeError\u001b[0m: Only Numpy arrays allows "
     ]
    }
   ],
   "source": [
    "def vertical_stack(*args):\n",
    "    for i in args:\n",
    "        if type(i) != np.ndarray:\n",
    "            raise TypeError(\"Only Numpy arrays allows \")\n",
    "    return np.vstack(*args)\n",
    "\n",
    "\n",
    "a = np.arange(1,11)\n",
    "b = np.repeat(1,10)\n",
    "vertical_stack((a,b))"
   ]
  },
  {
   "cell_type": "code",
   "execution_count": null,
   "metadata": {},
   "outputs": [
    {
     "data": {
      "text/plain": [
       "array([1, 1, 1, 1, 1, 1, 1, 1, 1, 1])"
      ]
     },
     "execution_count": 91,
     "metadata": {},
     "output_type": "execute_result"
    }
   ],
   "source": [
    "a\n",
    "b"
   ]
  },
  {
   "cell_type": "markdown",
   "metadata": {},
   "source": [
    "### Question 12: Substract the mean of each row from the matrix."
   ]
  },
  {
   "cell_type": "code",
   "execution_count": null,
   "metadata": {},
   "outputs": [
    {
     "name": "stdout",
     "output_type": "stream",
     "text": [
      "[[0.54583403]\n",
      " [0.56995348]\n",
      " [0.55878522]\n",
      " [0.31821915]\n",
      " [0.58291991]]\n",
      "[[0.66807796 0.60758615 0.56587412 0.34179791]\n",
      " [0.3597857  0.7858721  0.41957624 0.71457989]\n",
      " [0.54924541 0.61632351 0.17104371 0.89852824]\n",
      " [0.31642732 0.02794483 0.01852399 0.90998049]\n",
      " [0.60485515 0.54949593 0.67701926 0.50030929]]\n",
      "[[ 0.12224392  0.06175212  0.02004008 -0.20403612]\n",
      " [-0.21016778  0.21591862 -0.15037724  0.1446264 ]\n",
      " [-0.0095398   0.05753829 -0.38774151  0.33974303]\n",
      " [-0.00179183 -0.29027433 -0.29969517  0.59176133]\n",
      " [ 0.02193524 -0.03342398  0.09409936 -0.08261061]]\n"
     ]
    }
   ],
   "source": [
    "x = np.random.random((5,4))\n",
    "mean = x.mean(axis=1).reshape(5,1)\n",
    "\n",
    "print(mean)\n",
    "print(x)\n",
    "print(x - mean)"
   ]
  },
  {
   "cell_type": "markdown",
   "metadata": {},
   "source": [
    "### Question 13: Swap column-1 of array with column-2 in the array."
   ]
  },
  {
   "cell_type": "code",
   "execution_count": null,
   "metadata": {},
   "outputs": [
    {
     "name": "stdout",
     "output_type": "stream",
     "text": [
      "[[0.83607569 0.09142741 0.44003314 0.62169761]\n",
      " [0.14899227 0.00548808 0.92935301 0.48139896]\n",
      " [0.31147376 0.74176837 0.2233547  0.74159745]\n",
      " [0.37865403 0.51143438 0.85165918 0.80237324]\n",
      " [0.49954519 0.7758328  0.19548236 0.01084187]]\n",
      "[[0.09142741 0.83607569 0.44003314 0.62169761]\n",
      " [0.00548808 0.14899227 0.92935301 0.48139896]\n",
      " [0.74176837 0.31147376 0.2233547  0.74159745]\n",
      " [0.51143438 0.37865403 0.85165918 0.80237324]\n",
      " [0.7758328  0.49954519 0.19548236 0.01084187]]\n"
     ]
    }
   ],
   "source": [
    "x = np.random.random((5,4))\n",
    "new_order = [1,0,2,3]\n",
    "rearranged_array = x[:, new_order]\n",
    "print(x)\n",
    "print(rearranged_array) "
   ]
  },
  {
   "cell_type": "markdown",
   "metadata": {},
   "source": [
    "### Question 14: Replace the odd elements of an array with -1. "
   ]
  },
  {
   "cell_type": "code",
   "execution_count": null,
   "metadata": {},
   "outputs": [
    {
     "data": {
      "text/plain": [
       "array([0, 1, 2, 3, 4, 5, 6, 7, 8, 9])"
      ]
     },
     "execution_count": 126,
     "metadata": {},
     "output_type": "execute_result"
    }
   ],
   "source": [
    "a = np.arange(10)\n",
    "a"
   ]
  },
  {
   "cell_type": "code",
   "execution_count": null,
   "metadata": {},
   "outputs": [
    {
     "data": {
      "text/plain": [
       "array([ 0, -1,  2, -1,  4, -1,  6, -1,  8, -1])"
      ]
     },
     "execution_count": 130,
     "metadata": {},
     "output_type": "execute_result"
    }
   ],
   "source": [
    "a[a % 2 == 1] = -1\n",
    "a"
   ]
  },
  {
   "cell_type": "markdown",
   "metadata": {},
   "source": [
    "### Question 15: Given two arrays of same shape make an array of max out of two arrays. (Numpy way)"
   ]
  },
  {
   "cell_type": "code",
   "execution_count": null,
   "metadata": {},
   "outputs": [],
   "source": [
    "a = np.array([6,3,1,5,8])\n",
    "b = np.array([3,2,1,7,2])"
   ]
  },
  {
   "cell_type": "code",
   "execution_count": null,
   "metadata": {},
   "outputs": [
    {
     "name": "stdout",
     "output_type": "stream",
     "text": [
      "[6 3 1 5 8]\n"
     ]
    },
    {
     "data": {
      "text/plain": [
       "array([3, 2, 1, 7, 2])"
      ]
     },
     "execution_count": 135,
     "metadata": {},
     "output_type": "execute_result"
    }
   ],
   "source": [
    "print(a)\n",
    "b"
   ]
  },
  {
   "cell_type": "code",
   "execution_count": null,
   "metadata": {},
   "outputs": [],
   "source": [
    "a[b > a] = b[b > a]"
   ]
  },
  {
   "cell_type": "code",
   "execution_count": null,
   "metadata": {},
   "outputs": [
    {
     "data": {
      "text/plain": [
       "array([6, 3, 1, 7, 8])"
      ]
     },
     "execution_count": 141,
     "metadata": {},
     "output_type": "execute_result"
    }
   ],
   "source": [
    "a"
   ]
  },
  {
   "cell_type": "markdown",
   "metadata": {},
   "source": [
    "### Question 16 : Find the nearest element in the given array to an integer."
   ]
  },
  {
   "cell_type": "code",
   "execution_count": null,
   "metadata": {},
   "outputs": [
    {
     "data": {
      "text/plain": [
       "2"
      ]
     },
     "execution_count": 151,
     "metadata": {},
     "output_type": "execute_result"
    }
   ],
   "source": [
    "a = 23\n",
    "arr = np.array([10, 17, 24, 31, 38, 45, 52, 59])\n",
    "abs(arr - a).argmin()\n"
   ]
  },
  {
   "cell_type": "markdown",
   "metadata": {},
   "source": [
    "### Question 17: Replace multiples of 0 or 5 with 0 from the given array."
   ]
  },
  {
   "cell_type": "code",
   "execution_count": null,
   "metadata": {},
   "outputs": [],
   "source": [
    "arr = np.array([12, 3, 4, 5, 6, 7, 9])\n",
    "arr[(arr % 5 == 0) | (arr % 3 == 0)] = 0"
   ]
  },
  {
   "cell_type": "code",
   "execution_count": null,
   "metadata": {},
   "outputs": [
    {
     "data": {
      "text/plain": [
       "array([0, 0, 4, 0, 0, 7, 0])"
      ]
     },
     "execution_count": 159,
     "metadata": {},
     "output_type": "execute_result"
    }
   ],
   "source": [
    "arr"
   ]
  },
  {
   "cell_type": "markdown",
   "metadata": {},
   "source": [
    "### Question 18: Double the array elements at a given index \n",
    "\n",
    "arr = np.arrange(10)\n",
    "indices = [0,3,4,8]\n",
    "\n",
    "\n",
    "Result -> [0, 1, 2, 6, 8, 5, 6, 7, 8, 18]"
   ]
  },
  {
   "cell_type": "code",
   "execution_count": null,
   "metadata": {},
   "outputs": [],
   "source": [
    "arr = np.arange(10)\n",
    "indices = [0,3,4,8]\n",
    "arr[indices] *= 2\n"
   ]
  },
  {
   "cell_type": "code",
   "execution_count": null,
   "metadata": {},
   "outputs": [
    {
     "data": {
      "text/plain": [
       "array([ 0,  1,  2,  6,  8,  5,  6,  7, 16,  9])"
      ]
     },
     "execution_count": 167,
     "metadata": {},
     "output_type": "execute_result"
    }
   ],
   "source": [
    "arr"
   ]
  },
  {
   "cell_type": "markdown",
   "metadata": {},
   "source": [
    "### Question 19: \n",
    "\n",
    "array = [1,2,3]\n",
    "result array -> [1 1 1 2 2 2 3 3 3]"
   ]
  },
  {
   "cell_type": "code",
   "execution_count": null,
   "metadata": {},
   "outputs": [
    {
     "data": {
      "text/plain": [
       "array([1, 1, 1, 1, 1, 2, 2, 2, 2, 2, 3, 3, 3, 3, 3, 4, 4, 4, 4, 4, 5, 5,\n",
       "       5, 5, 5])"
      ]
     },
     "execution_count": 177,
     "metadata": {},
     "output_type": "execute_result"
    }
   ],
   "source": [
    "arr = np.array([1,2,3,4,5])\n",
    "\n",
    "indexes = []\n",
    "for i in range(len(arr)):\n",
    "    indexes.extend([i] * len(arr))\n",
    "    \n",
    "arr[indexes]"
   ]
  },
  {
   "cell_type": "markdown",
   "metadata": {},
   "source": [
    "### Question 20: You are given an array which has some nan values. Your Job is to fill those nan values with most common element in the array. "
   ]
  },
  {
   "cell_type": "code",
   "execution_count": null,
   "metadata": {},
   "outputs": [
    {
     "data": {
      "text/plain": [
       "2"
      ]
     },
     "execution_count": 191,
     "metadata": {},
     "output_type": "execute_result"
    }
   ],
   "source": [
    "arr = np.array ([[1,2,np.nan], [4,2,6], [np.nan, np.nan, 5]])\n"
   ]
  },
  {
   "cell_type": "code",
   "execution_count": null,
   "metadata": {},
   "outputs": [
    {
     "data": {
      "text/plain": [
       "array([[1., 2., 2.],\n",
       "       [4., 2., 6.],\n",
       "       [2., 2., 5.]])"
      ]
     },
     "execution_count": 198,
     "metadata": {},
     "output_type": "execute_result"
    }
   ],
   "source": [
    "arr[np.isnan(arr)] = np.ravel(arr).argmax()\n",
    "arr"
   ]
  },
  {
   "cell_type": "code",
   "execution_count": null,
   "metadata": {},
   "outputs": [
    {
     "data": {
      "text/plain": [
       "array([[1., 2., 2.],\n",
       "       [4., 2., 6.],\n",
       "       [2., 2., 5.]])"
      ]
     },
     "execution_count": 197,
     "metadata": {},
     "output_type": "execute_result"
    }
   ],
   "source": [
    "np.nan_to_num(arr,np.ravel(arr).argmax())"
   ]
  },
  {
   "cell_type": "markdown",
   "metadata": {},
   "source": [
    "### Question 21: Take 2 shapes and check if they can be broadcasted or not. "
   ]
  },
  {
   "cell_type": "code",
   "execution_count": null,
   "metadata": {},
   "outputs": [
    {
     "name": "stdout",
     "output_type": "stream",
     "text": [
      "1 2\n",
      "2 2\n",
      "3 4\n"
     ]
    }
   ],
   "source": [
    "a = [1,2,3]\n",
    "b = [2,2,4,5]\n",
    "\n",
    "def check_broadcast(a,b):\n",
    "    for ai, bi in zip(a,b):\n",
    "        if ai != bi and ai != 1 and bi != 1:\n",
    "            return False\n",
    "        \n",
    "    return True\n",
    "\n"
   ]
  },
  {
   "cell_type": "markdown",
   "metadata": {},
   "source": [
    "### Question 22: Create a random 3x4 matrix with value between 0-100. And perform below tasks.\n",
    "\n",
    "i. Sort this matrix based on max value in each row. \n",
    "\n",
    "ii. Sort based on elements value."
   ]
  },
  {
   "cell_type": "markdown",
   "metadata": {},
   "source": [
    "##### i."
   ]
  },
  {
   "cell_type": "code",
   "execution_count": 59,
   "metadata": {},
   "outputs": [
    {
     "data": {
      "text/plain": [
       "array([[  4,   4,   5,  69],\n",
       "       [  2,   3,   9, 100],\n",
       "       [  1,   7,   8,  11]])"
      ]
     },
     "execution_count": 59,
     "metadata": {},
     "output_type": "execute_result"
    }
   ],
   "source": [
    "# Sorting on the basis of that maximum in each row.\n",
    "\n",
    "arr = np.array([[ 4,  4,  5,  69],[ 2,  3,  9, 100],[ 1,  7,  8, 11]])\n",
    "arr"
   ]
  },
  {
   "cell_type": "code",
   "execution_count": 62,
   "metadata": {},
   "outputs": [
    {
     "data": {
      "text/plain": [
       "array([[  1,   7,   8,  11],\n",
       "       [  4,   4,   5,  69],\n",
       "       [  2,   3,   9, 100]])"
      ]
     },
     "execution_count": 62,
     "metadata": {},
     "output_type": "execute_result"
    }
   ],
   "source": [
    "np.array(sorted(arr, key = lambda x: max(x))) ## IMPORTANT IMPORTANT !!!!"
   ]
  },
  {
   "cell_type": "markdown",
   "metadata": {},
   "source": [
    "##### ii."
   ]
  },
  {
   "cell_type": "code",
   "execution_count": 70,
   "metadata": {},
   "outputs": [
    {
     "data": {
      "text/plain": [
       "array([[  1,   2,   3,   4],\n",
       "       [  4,   5,   7,   8],\n",
       "       [  9,  11,  69, 100]])"
      ]
     },
     "execution_count": 70,
     "metadata": {},
     "output_type": "execute_result"
    }
   ],
   "source": [
    "s = np.ravel(arr)\n",
    "s.reshape(3,4)"
   ]
  },
  {
   "cell_type": "markdown",
   "metadata": {},
   "source": [
    "### Question 23: There is an array of marks of 5 students in 4 subjects. Further you are asked to perform below task.\n",
    "\n",
    "i. Add a new column to the 2D array - Marks of an extra subject.\n",
    "        \n",
    "        extra_subject = [41, 87, 72, 36, 92]\n",
    "\n",
    "ii. Add two new students marks in respective subjects. (one subject added in above task) \n",
    "\n",
    "iii. Add extra column with sum of all subjects(5-subjects) marks\n",
    "\n",
    "iv. Sort the array(non-ascending order) on total marks column."
   ]
  },
  {
   "cell_type": "markdown",
   "metadata": {},
   "source": [
    "#### i"
   ]
  },
  {
   "cell_type": "code",
   "execution_count": 89,
   "metadata": {},
   "outputs": [
    {
     "data": {
      "text/plain": [
       "array([[53, 73, 63, 38],\n",
       "       [38, 44, 51, 18],\n",
       "       [60, 43, 15, 15],\n",
       "       [27, 62, 69, 47],\n",
       "       [ 3, 34, 26, 88]])"
      ]
     },
     "execution_count": 89,
     "metadata": {},
     "output_type": "execute_result"
    }
   ],
   "source": [
    "arr = np.random.randint(0,101,20).reshape(5,4)\n",
    "arr"
   ]
  },
  {
   "cell_type": "code",
   "execution_count": 94,
   "metadata": {},
   "outputs": [],
   "source": [
    "extra_subject = np.array([41, 87, 72, 36, 92]).reshape(5,1)"
   ]
  },
  {
   "cell_type": "code",
   "execution_count": 102,
   "metadata": {},
   "outputs": [],
   "source": [
    "arr = np.hstack((arr,extra_subject))"
   ]
  },
  {
   "cell_type": "markdown",
   "metadata": {},
   "source": [
    "#### ii"
   ]
  },
  {
   "cell_type": "code",
   "execution_count": 103,
   "metadata": {},
   "outputs": [
    {
     "name": "stdout",
     "output_type": "stream",
     "text": [
      "[[77 83 98 95 89]] [[92 71 52 61 53]]\n"
     ]
    }
   ],
   "source": [
    "stu1 = np.array([77, 83, 98, 95, 89]).reshape(1,5)\n",
    "stu2 = np.array([92, 71, 52, 61, 53]).reshape(1,5)\n",
    "print(stu1, stu2)"
   ]
  },
  {
   "cell_type": "code",
   "execution_count": 110,
   "metadata": {},
   "outputs": [],
   "source": [
    "arr = np.vstack((arr,stu1,stu2))"
   ]
  },
  {
   "cell_type": "markdown",
   "metadata": {},
   "source": [
    "#### iii"
   ]
  },
  {
   "cell_type": "code",
   "execution_count": 120,
   "metadata": {},
   "outputs": [],
   "source": [
    "sum = np.sum(arr,axis=1)\n",
    "sum = sum.reshape(7,1)"
   ]
  },
  {
   "cell_type": "code",
   "execution_count": 122,
   "metadata": {},
   "outputs": [
    {
     "name": "stdout",
     "output_type": "stream",
     "text": [
      "[[53 73 63 38 41]\n",
      " [38 44 51 18 87]\n",
      " [60 43 15 15 72]\n",
      " [27 62 69 47 36]\n",
      " [ 3 34 26 88 92]\n",
      " [77 83 98 95 89]\n",
      " [92 71 52 61 53]]\n",
      "[[268]\n",
      " [238]\n",
      " [205]\n",
      " [241]\n",
      " [243]\n",
      " [442]\n",
      " [329]]\n"
     ]
    }
   ],
   "source": [
    "print(arr)\n",
    "print(sum)"
   ]
  },
  {
   "cell_type": "code",
   "execution_count": 125,
   "metadata": {},
   "outputs": [],
   "source": [
    "arr = np.hstack((arr,sum))"
   ]
  },
  {
   "cell_type": "markdown",
   "metadata": {},
   "source": [
    "#### iv"
   ]
  },
  {
   "cell_type": "code",
   "execution_count": 128,
   "metadata": {},
   "outputs": [
    {
     "data": {
      "text/plain": [
       "[array([ 77,  83,  98,  95,  89, 442]),\n",
       " array([ 92,  71,  52,  61,  53, 329]),\n",
       " array([ 53,  73,  63,  38,  41, 268]),\n",
       " array([  3,  34,  26,  88,  92, 243]),\n",
       " array([ 27,  62,  69,  47,  36, 241]),\n",
       " array([ 38,  44,  51,  18,  87, 238]),\n",
       " array([ 60,  43,  15,  15,  72, 205])]"
      ]
     },
     "execution_count": 128,
     "metadata": {},
     "output_type": "execute_result"
    }
   ],
   "source": [
    "sorted(arr, key = lambda x: x[-1],reverse=True)"
   ]
  },
  {
   "cell_type": "markdown",
   "metadata": {},
   "source": [
    "### Question 24: Find Unique arrays from a 2D array column and row wise."
   ]
  },
  {
   "cell_type": "code",
   "execution_count": 139,
   "metadata": {},
   "outputs": [],
   "source": [
    "arr = np.array([[1,2,1,3,1,1],\n",
    "                [0,9,0,2,8,8],\n",
    "                [1,2,1,8,8,8],\n",
    "                [1,2,1,3,1,1]])"
   ]
  },
  {
   "cell_type": "code",
   "execution_count": 140,
   "metadata": {},
   "outputs": [
    {
     "data": {
      "text/plain": [
       "array([[0, 9, 0, 2, 8, 8],\n",
       "       [1, 2, 1, 3, 1, 1],\n",
       "       [1, 2, 1, 8, 8, 8]])"
      ]
     },
     "execution_count": 140,
     "metadata": {},
     "output_type": "execute_result"
    }
   ],
   "source": [
    "# Unique rows.\n",
    "np.unique(arr, axis=0)"
   ]
  },
  {
   "cell_type": "code",
   "execution_count": 141,
   "metadata": {},
   "outputs": [
    {
     "data": {
      "text/plain": [
       "array([[1, 1, 2, 3],\n",
       "       [0, 8, 9, 2],\n",
       "       [1, 8, 2, 8],\n",
       "       [1, 1, 2, 3]])"
      ]
     },
     "execution_count": 141,
     "metadata": {},
     "output_type": "execute_result"
    }
   ],
   "source": [
    "# Unique Columns\n",
    "np.unique(arr,axis = 1)"
   ]
  },
  {
   "cell_type": "markdown",
   "metadata": {},
   "source": [
    "#### Question 25: Get two numbers of Numpy array having elements larger than x.\n",
    "\n",
    "arr = np.array([[1,2,3,4,5],\n",
    "                [10,-3,30,4,5],\n",
    "                [3,2,5,-4,5],\n",
    "                [9,7,3,6,5]])\n",
    "\n",
    "X = 6"
   ]
  },
  {
   "cell_type": "code",
   "execution_count": 144,
   "metadata": {},
   "outputs": [],
   "source": [
    "arr = np.array([[1,2,3,4,5],\n",
    "                [10,-3,30,4,5],\n",
    "                [3,2,5,-4,5],\n",
    "                [9,7,3,6,5]])\n",
    "\n",
    "X = 6"
   ]
  },
  {
   "cell_type": "code",
   "execution_count": 181,
   "metadata": {},
   "outputs": [
    {
     "data": {
      "text/plain": [
       "(array([1, 3]),)"
      ]
     },
     "execution_count": 181,
     "metadata": {},
     "output_type": "execute_result"
    }
   ],
   "source": [
    "np.where(np.any(arr > 6, axis=1))"
   ]
  },
  {
   "cell_type": "markdown",
   "metadata": {},
   "source": [
    "#### Question 26: You are given a array. You have to find the minimum and maximum array element and remove that from the array.\n",
    "\n",
    "np.random.Seed(400)\n",
    "\n",
    "arr = np.random.randint(100, 1800, 200).reshape((1, 200))"
   ]
  },
  {
   "cell_type": "code",
   "execution_count": 194,
   "metadata": {},
   "outputs": [
    {
     "data": {
      "text/plain": [
       "array([[ 448, 1587,  418, 1053,  240, 1111,  507, 1386,  345,  236,  719,\n",
       "        1315,  298, 1663,  458,  387,  262,  613,  267,  882, 1205, 1449,\n",
       "         790,  635,  967, 1301, 1494, 1010,  336,  920,  295, 1581, 1029,\n",
       "        1080, 1530,  385,  353,  592, 1040, 1072,  137, 1364,  222,  215,\n",
       "         472,  459,  617,  649, 1070,  914,  932, 1669,  921, 1514,  527,\n",
       "         972, 1302,  307,  840,  958,  246, 1079,  449,  251,  103, 1651,\n",
       "         824,  356,  825, 1197,  323, 1396, 1077,  710, 1488, 1268, 1066,\n",
       "         763, 1659,  436,  774, 1195,  469, 1202,  458, 1648,  211, 1795,\n",
       "         270, 1068,  308, 1255,  952,  514,  699, 1726,  433,  900, 1054,\n",
       "         373,  318,  265, 1527,  320,  230, 1348,  967,  620, 1013, 1767,\n",
       "        1036, 1551, 1141, 1590, 1147, 1611,  227,  757, 1352,  930,  325,\n",
       "        1753, 1450, 1042, 1034, 1538, 1013, 1320,  879,  575,  936,  705,\n",
       "        1233,  191, 1767, 1094,  510, 1537, 1652,  559, 1682,  528,  395,\n",
       "         525,  922,  136,  496,  225,  895, 1287,  908, 1444, 1735,  976,\n",
       "         235, 1064,  859,  618,  226, 1719,  460, 1242, 1507,  490,  803,\n",
       "         621,  453, 1217, 1631,  677,  637,  728, 1748, 1558,  748, 1315,\n",
       "        1218, 1785,  687, 1593,  228, 1506, 1578, 1678, 1054, 1763,  885,\n",
       "        1221, 1290, 1252, 1052, 1231, 1095,  883,  588, 1101,  505,  381,\n",
       "         689, 1451]])"
      ]
     },
     "execution_count": 194,
     "metadata": {},
     "output_type": "execute_result"
    }
   ],
   "source": [
    "np.random.seed(400)\n",
    "\n",
    "arr = np.random.randint(100, 1800, 200).reshape((1, 200))\n",
    "arr"
   ]
  },
  {
   "cell_type": "code",
   "execution_count": 191,
   "metadata": {},
   "outputs": [],
   "source": [
    "max_element = arr.argmax()\n",
    "min_element = arr.argmin()"
   ]
  },
  {
   "cell_type": "code",
   "execution_count": 195,
   "metadata": {},
   "outputs": [
    {
     "data": {
      "text/plain": [
       "array([ 448, 1587,  418, 1053,  240, 1111,  507, 1386,  345,  236,  719,\n",
       "       1315,  298, 1663,  458,  387,  262,  613,  267,  882, 1205, 1449,\n",
       "        790,  635,  967, 1301, 1494, 1010,  336,  920,  295, 1581, 1029,\n",
       "       1080, 1530,  385,  353,  592, 1040, 1072,  137, 1364,  222,  215,\n",
       "        472,  459,  617,  649, 1070,  914,  932, 1669,  921, 1514,  527,\n",
       "        972, 1302,  307,  840,  958,  246, 1079,  449,  251, 1651,  824,\n",
       "        356,  825, 1197,  323, 1396, 1077,  710, 1488, 1268, 1066,  763,\n",
       "       1659,  436,  774, 1195,  469, 1202,  458, 1648,  211, 1795,  270,\n",
       "       1068,  308, 1255,  952,  514,  699, 1726,  433,  900, 1054,  373,\n",
       "        318,  265, 1527,  320,  230, 1348,  967,  620, 1013, 1767, 1036,\n",
       "       1551, 1141, 1590, 1147, 1611,  227,  757, 1352,  930,  325, 1753,\n",
       "       1450, 1042, 1034, 1538, 1013, 1320,  879,  575,  936,  705, 1233,\n",
       "        191, 1767, 1094,  510, 1537, 1652,  559, 1682,  528,  395,  525,\n",
       "        922,  136,  496,  225,  895, 1287,  908, 1444, 1735,  976,  235,\n",
       "       1064,  859,  618,  226, 1719,  460, 1242, 1507,  490,  803,  621,\n",
       "        453, 1217, 1631,  677,  637,  728, 1748, 1558,  748, 1315, 1218,\n",
       "       1785,  687, 1593,  228, 1506, 1578, 1678, 1054, 1763,  885, 1221,\n",
       "       1290, 1252, 1052, 1231, 1095,  883,  588, 1101,  505,  381,  689,\n",
       "       1451])"
      ]
     },
     "execution_count": 195,
     "metadata": {},
     "output_type": "execute_result"
    }
   ],
   "source": [
    "np.delete(arr,max_element)\n",
    "np.delete(arr,min_element)"
   ]
  },
  {
   "cell_type": "markdown",
   "metadata": {},
   "source": [
    "#### Question 27: You are given an arrays. You have to limit this array's elements between 100 to 200. arr € [100, 700]. So replace those values accordingly with the minimum and maximum value. Then sort the array and perform the cumulative sum of that array."
   ]
  },
  {
   "cell_type": "code",
   "execution_count": 196,
   "metadata": {},
   "outputs": [],
   "source": [
    "arr = np.random.randint(100,701,50)"
   ]
  },
  {
   "cell_type": "code",
   "execution_count": 202,
   "metadata": {},
   "outputs": [],
   "source": [
    "arr = np.clip(arr,a_min = 100,a_max = 200)"
   ]
  },
  {
   "cell_type": "code",
   "execution_count": 204,
   "metadata": {},
   "outputs": [],
   "source": [
    "arr = np.sort(arr)"
   ]
  },
  {
   "cell_type": "code",
   "execution_count": 205,
   "metadata": {},
   "outputs": [
    {
     "data": {
      "text/plain": [
       "array([ 100,  223,  354,  487,  633,  786,  943, 1143, 1343, 1543, 1743,\n",
       "       1943, 2143, 2343, 2543, 2743, 2943, 3143, 3343, 3543, 3743, 3943,\n",
       "       4143, 4343, 4543, 4743, 4943, 5143, 5343, 5543, 5743, 5943, 6143,\n",
       "       6343, 6543, 6743, 6943, 7143, 7343, 7543, 7743, 7943, 8143, 8343,\n",
       "       8543, 8743, 8943, 9143, 9343, 9543])"
      ]
     },
     "execution_count": 205,
     "metadata": {},
     "output_type": "execute_result"
    }
   ],
   "source": [
    "np.cumsum(arr)"
   ]
  },
  {
   "cell_type": "markdown",
   "metadata": {},
   "source": [
    "#### Question 28: You are given a array (arr € [0, 11). First you have round off the elements upto 3 decimal places and compare that\n",
    "\n",
    "• Oth percentile == minimum value of the array\n",
    "\n",
    "• 100th percentile == maximum value of the array\n",
    "\n",
    "• also find the difference betwen 51th percenile and 50th percentile values"
   ]
  },
  {
   "cell_type": "code",
   "execution_count": 213,
   "metadata": {},
   "outputs": [
    {
     "data": {
      "text/plain": [
       "0.002975738570207054"
      ]
     },
     "execution_count": 213,
     "metadata": {},
     "output_type": "execute_result"
    }
   ],
   "source": [
    "arr = np.random.random(100)\n",
    "arr.round(decimals=3)\n",
    "np.percentile(arr,0) == np.min(arr)\n",
    "np.percentile(arr,100) == np.max(arr)\n",
    "np.percentile(arr,51) - np.percentile(arr,50)\n"
   ]
  },
  {
   "cell_type": "code",
   "execution_count": null,
   "metadata": {},
   "outputs": [],
   "source": []
  }
 ],
 "metadata": {
  "kernelspec": {
   "display_name": "Python 3",
   "language": "python",
   "name": "python3"
  },
  "language_info": {
   "codemirror_mode": {
    "name": "ipython",
    "version": 3
   },
   "file_extension": ".py",
   "mimetype": "text/x-python",
   "name": "python",
   "nbconvert_exporter": "python",
   "pygments_lexer": "ipython3",
   "version": "3.12.0"
  }
 },
 "nbformat": 4,
 "nbformat_minor": 2
}
