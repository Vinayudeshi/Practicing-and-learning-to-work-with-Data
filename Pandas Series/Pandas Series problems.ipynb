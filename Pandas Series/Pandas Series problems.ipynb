{
 "cells": [
  {
   "cell_type": "code",
   "execution_count": 4,
   "metadata": {},
   "outputs": [],
   "source": [
    "import numpy as np\n",
    "import pandas as pd"
   ]
  },
  {
   "cell_type": "markdown",
   "metadata": {},
   "source": [
    "### Question 1: Create an empty Series."
   ]
  },
  {
   "cell_type": "code",
   "execution_count": 4,
   "metadata": {},
   "outputs": [
    {
     "data": {
      "text/plain": [
       "Series([], dtype: object)"
      ]
     },
     "execution_count": 4,
     "metadata": {},
     "output_type": "execute_result"
    }
   ],
   "source": [
    "pd.Series()"
   ]
  },
  {
   "cell_type": "markdown",
   "metadata": {},
   "source": [
    "### Question 2: Write a Pandas program to add, subtract, multiple and divide two Pandas Series."
   ]
  },
  {
   "cell_type": "code",
   "execution_count": 5,
   "metadata": {},
   "outputs": [],
   "source": [
    "a = pd. Series ([2, 4, 6, 8, 10])\n",
    "b = pd. Series ([1, 3, 5, 7, 10])"
   ]
  },
  {
   "cell_type": "code",
   "execution_count": 6,
   "metadata": {},
   "outputs": [
    {
     "data": {
      "text/plain": [
       "0    1\n",
       "1    1\n",
       "2    1\n",
       "3    1\n",
       "4    0\n",
       "dtype: int64"
      ]
     },
     "execution_count": 6,
     "metadata": {},
     "output_type": "execute_result"
    }
   ],
   "source": [
    "a - b"
   ]
  },
  {
   "cell_type": "code",
   "execution_count": 7,
   "metadata": {},
   "outputs": [
    {
     "data": {
      "text/plain": [
       "0     3\n",
       "1     7\n",
       "2    11\n",
       "3    15\n",
       "4    20\n",
       "dtype: int64"
      ]
     },
     "execution_count": 7,
     "metadata": {},
     "output_type": "execute_result"
    }
   ],
   "source": [
    "a + b"
   ]
  },
  {
   "cell_type": "markdown",
   "metadata": {},
   "source": [
    "### Question 3 : Write a Pandas program to compare the elements of the two Pandas Series. "
   ]
  },
  {
   "cell_type": "code",
   "execution_count": 8,
   "metadata": {},
   "outputs": [],
   "source": [
    "a = pd. Series ([2, 4, 6, 8, 10])\n",
    "b = pd. Series ([1, 3, 5, 7, 10])"
   ]
  },
  {
   "cell_type": "markdown",
   "metadata": {},
   "source": [
    "#### Use all of the comparision Operators."
   ]
  },
  {
   "cell_type": "markdown",
   "metadata": {},
   "source": [
    "### Question 4: Write a function to change the data type of given a column or a Series. Function takes series and data type as input, returns the converted series.\n",
    "\n",
    "series = pd.Series([1,2, 'Python', 2.0, True, 100])\n",
    "\n",
    "change to float type data"
   ]
  },
  {
   "cell_type": "code",
   "execution_count": 21,
   "metadata": {},
   "outputs": [],
   "source": [
    "series = pd.Series([1,2, 'Python', 2.0, True, 100])\n",
    "def change_datatype(arr):\n",
    "    return pd.to_numeric(arr, errors='coerce')"
   ]
  },
  {
   "cell_type": "code",
   "execution_count": 22,
   "metadata": {},
   "outputs": [
    {
     "data": {
      "text/plain": [
       "0      1.0\n",
       "1      2.0\n",
       "2      NaN\n",
       "3      2.0\n",
       "4      1.0\n",
       "5    100.0\n",
       "dtype: float64"
      ]
     },
     "execution_count": 22,
     "metadata": {},
     "output_type": "execute_result"
    }
   ],
   "source": [
    "new_series = change_datatype(series)\n",
    "new_series"
   ]
  },
  {
   "cell_type": "code",
   "execution_count": 28,
   "metadata": {},
   "outputs": [
    {
     "data": {
      "text/plain": [
       "batter\n",
       "A Ashish Reddy     280\n",
       "A Badoni           161\n",
       "A Chandila           4\n",
       "A Chopra            53\n",
       "A Choudhary         25\n",
       "                  ... \n",
       "Yash Dayal           0\n",
       "Yashpal Singh       47\n",
       "Younis Khan          3\n",
       "Yuvraj Singh      2754\n",
       "Z Khan             117\n",
       "Name: batsman_run, Length: 605, dtype: int64"
      ]
     },
     "execution_count": 28,
     "metadata": {},
     "output_type": "execute_result"
    }
   ],
   "source": [
    "data = pd.read_csv('/Users/vinayudeshi/Desktop/C.X/Pandas /batsman_runs_series.csv',index_col='batter').squeeze()\n",
    "data"
   ]
  },
  {
   "cell_type": "code",
   "execution_count": 33,
   "metadata": {},
   "outputs": [
    {
     "data": {
      "text/plain": [
       "batter\n",
       "V Kohli           6634\n",
       "S Dhawan          6244\n",
       "DA Warner         5883\n",
       "RG Sharma         5881\n",
       "SK Raina          5536\n",
       "AB de Villiers    5181\n",
       "CH Gayle          4997\n",
       "MS Dhoni          4978\n",
       "RV Uthappa        4954\n",
       "KD Karthik        4377\n",
       "Name: batsman_run, dtype: int64"
      ]
     },
     "execution_count": 33,
     "metadata": {},
     "output_type": "execute_result"
    }
   ],
   "source": [
    "data.sort_values(ascending=False).head(10)"
   ]
  },
  {
   "cell_type": "code",
   "execution_count": 35,
   "metadata": {},
   "outputs": [
    {
     "data": {
      "text/plain": [
       "batter\n",
       "AB de Villiers    5181\n",
       "AM Rahane         4074\n",
       "AT Rayudu         4190\n",
       "CH Gayle          4997\n",
       "DA Warner         5883\n",
       "F du Plessis      3403\n",
       "G Gambhir         4217\n",
       "KA Pollard        3437\n",
       "KD Karthik        4377\n",
       "KL Rahul          3895\n",
       "MK Pandey         3657\n",
       "MS Dhoni          4978\n",
       "RG Sharma         5881\n",
       "RV Uthappa        4954\n",
       "S Dhawan          6244\n",
       "SK Raina          5536\n",
       "SR Watson         3880\n",
       "SV Samson         3526\n",
       "V Kohli           6634\n",
       "YK Pathan         3222\n",
       "Name: batsman_run, dtype: int64"
      ]
     },
     "execution_count": 35,
     "metadata": {},
     "output_type": "execute_result"
    }
   ],
   "source": [
    "data[data > 3000]"
   ]
  },
  {
   "cell_type": "code",
   "execution_count": 37,
   "metadata": {},
   "outputs": [
    {
     "data": {
      "text/plain": [
       "(128,)"
      ]
     },
     "execution_count": 37,
     "metadata": {},
     "output_type": "execute_result"
    }
   ],
   "source": [
    "data[data > data.mean()].shape"
   ]
  },
  {
   "cell_type": "markdown",
   "metadata": {},
   "source": [
    "### Lets work on new data."
   ]
  },
  {
   "cell_type": "code",
   "execution_count": 41,
   "metadata": {},
   "outputs": [],
   "source": [
    "data = pd.read_csv(\"/Users/vinayudeshi/Desktop/C.X/Pandas /items.csv\",index_col='item_name').squeeze()"
   ]
  },
  {
   "cell_type": "markdown",
   "metadata": {},
   "source": [
    "### Number of nan values in the column."
   ]
  },
  {
   "cell_type": "code",
   "execution_count": 47,
   "metadata": {},
   "outputs": [
    {
     "data": {
      "text/plain": [
       "(50,)"
      ]
     },
     "execution_count": 47,
     "metadata": {},
     "output_type": "execute_result"
    }
   ],
   "source": [
    "data[data.isna()].shape"
   ]
  },
  {
   "cell_type": "code",
   "execution_count": 48,
   "metadata": {},
   "outputs": [
    {
     "data": {
      "text/plain": [
       "item_name\n",
       "Chips and Fresh Tomato Salsa              $2.39 \n",
       "Izze                                      $3.39 \n",
       "Nantucket Nectar                          $3.39 \n",
       "Chips and Tomatillo-Green Chili Salsa     $2.39 \n",
       "Chicken Bowl                             $16.98 \n",
       "                                          ...   \n",
       "Steak Burrito                            $11.75 \n",
       "Steak Burrito                            $11.75 \n",
       "Chicken Salad Bowl                       $11.25 \n",
       "Chicken Salad Bowl                        $8.75 \n",
       "Chicken Salad Bowl                        $8.75 \n",
       "Name: item_price, Length: 4622, dtype: object"
      ]
     },
     "execution_count": 48,
     "metadata": {},
     "output_type": "execute_result"
    }
   ],
   "source": [
    "data"
   ]
  },
  {
   "cell_type": "markdown",
   "metadata": {},
   "source": [
    "### Lets convert the price of each item in the series to rupees."
   ]
  },
  {
   "cell_type": "code",
   "execution_count": 53,
   "metadata": {},
   "outputs": [],
   "source": [
    "\n",
    "\n",
    "def to_rupees(x):\n",
    "    try:\n",
    "        y = x[1:]\n",
    "    except:\n",
    "        y = x\n",
    "\n",
    "    return float(y) * 83 \n",
    "\n",
    "data = data.apply(to_rupees)\n",
    "    \n"
   ]
  },
  {
   "cell_type": "code",
   "execution_count": 68,
   "metadata": {},
   "outputs": [
    {
     "data": {
      "text/plain": [
       "item_name\n",
       "Chips and Fresh Tomato Salsa              198.37\n",
       "Izze                                      281.37\n",
       "Nantucket Nectar                          281.37\n",
       "Chips and Tomatillo-Green Chili Salsa     198.37\n",
       "Chicken Bowl                             1409.34\n",
       "                                          ...   \n",
       "Steak Burrito                             975.25\n",
       "Steak Burrito                             975.25\n",
       "Chicken Salad Bowl                        933.75\n",
       "Chicken Salad Bowl                        726.25\n",
       "Chicken Salad Bowl                        726.25\n",
       "Name: item_price, Length: 4622, dtype: float64"
      ]
     },
     "execution_count": 68,
     "metadata": {},
     "output_type": "execute_result"
    }
   ],
   "source": [
    "## FILL THE NAN VALUES WITH THE MEAN OF THE DATASET.\n",
    "data[np.isnan(data)] = np.mean(data)\n",
    "# There is one more way to do the same things\n",
    "data.fillna(data.mean())"
   ]
  },
  {
   "cell_type": "markdown",
   "metadata": {},
   "source": [
    "### Plot Histogram on price with 50 bins"
   ]
  },
  {
   "cell_type": "code",
   "execution_count": 69,
   "metadata": {},
   "outputs": [],
   "source": [
    "import matplotlib.pyplot as plt"
   ]
  },
  {
   "cell_type": "code",
   "execution_count": 72,
   "metadata": {},
   "outputs": [
    {
     "data": {
      "text/plain": [
       "(array([5.790e+02, 3.380e+02, 2.290e+02, 4.810e+02, 7.000e+00, 1.000e+01,\n",
       "        5.500e+01, 6.500e+01, 1.067e+03, 6.740e+02, 6.000e+00, 6.230e+02,\n",
       "        3.600e+02, 1.000e+00, 2.000e+00, 0.000e+00, 1.000e+00, 1.000e+00,\n",
       "        1.900e+01, 4.700e+01, 1.200e+01, 0.000e+00, 0.000e+00, 0.000e+00,\n",
       "        2.600e+01, 6.000e+00, 1.000e+00, 0.000e+00, 1.000e+00, 3.000e+00,\n",
       "        2.000e+00, 0.000e+00, 0.000e+00, 0.000e+00, 0.000e+00, 0.000e+00,\n",
       "        1.000e+00, 1.000e+00, 0.000e+00, 3.000e+00, 0.000e+00, 0.000e+00,\n",
       "        0.000e+00, 0.000e+00, 0.000e+00, 0.000e+00, 0.000e+00, 0.000e+00,\n",
       "        0.000e+00, 1.000e+00]),\n",
       " array([  90.47  ,  162.1156,  233.7612,  305.4068,  377.0524,  448.698 ,\n",
       "         520.3436,  591.9892,  663.6348,  735.2804,  806.926 ,  878.5716,\n",
       "         950.2172, 1021.8628, 1093.5084, 1165.154 , 1236.7996, 1308.4452,\n",
       "        1380.0908, 1451.7364, 1523.382 , 1595.0276, 1666.6732, 1738.3188,\n",
       "        1809.9644, 1881.61  , 1953.2556, 2024.9012, 2096.5468, 2168.1924,\n",
       "        2239.838 , 2311.4836, 2383.1292, 2454.7748, 2526.4204, 2598.066 ,\n",
       "        2669.7116, 2741.3572, 2813.0028, 2884.6484, 2956.294 , 3027.9396,\n",
       "        3099.5852, 3171.2308, 3242.8764, 3314.522 , 3386.1676, 3457.8132,\n",
       "        3529.4588, 3601.1044, 3672.75  ]),\n",
       " <BarContainer object of 50 artists>)"
      ]
     },
     "execution_count": 72,
     "metadata": {},
     "output_type": "execute_result"
    },
    {
     "data": {
      "image/png": "[encoded data removed]",
      "text/plain": [
       "<Figure size 640x480 with 1 Axes>"
      ]
     },
     "metadata": {},
     "output_type": "display_data"
    }
   ],
   "source": [
    "plt.hist(data,bins = 50)"
   ]
  },
  {
   "cell_type": "markdown",
   "metadata": {},
   "source": [
    "### Find the number of items within the range 1000 to 2000"
   ]
  },
  {
   "cell_type": "code",
   "execution_count": 80,
   "metadata": {},
   "outputs": [
    {
     "data": {
      "text/plain": [
       "item_name\n",
       "Chicken Bowl           1409.34\n",
       "Chicken Salad Bowl     1867.50\n",
       "Steak Burrito          1492.34\n",
       "Chicken Burrito        1452.50\n",
       "Chicken Bowl           1452.50\n",
       "                        ...   \n",
       "Chicken Bowl           1867.50\n",
       "Steak Bowl             1950.50\n",
       "Chicken Bowl           1452.50\n",
       "Chips and Guacamole    1477.40\n",
       "Chicken Salad Bowl     1452.50\n",
       "Name: item_price, Length: 116, dtype: float64"
      ]
     },
     "execution_count": 80,
     "metadata": {},
     "output_type": "execute_result"
    }
   ],
   "source": [
    "data[(data < 2000) & (data > 1000)]"
   ]
  },
  {
   "cell_type": "code",
   "execution_count": null,
   "metadata": {},
   "outputs": [],
   "source": []
  }
 ],
 "metadata": {
  "kernelspec": {
   "display_name": "Python 3",
   "language": "python",
   "name": "python3"
  },
  "language_info": {
   "codemirror_mode": {
    "name": "ipython",
    "version": 3
   },
   "file_extension": ".py",
   "mimetype": "text/x-python",
   "name": "python",
   "nbconvert_exporter": "python",
   "pygments_lexer": "ipython3",
   "version": "3.12.0"
  }
 },
 "nbformat": 4,
 "nbformat_minor": 2
}
